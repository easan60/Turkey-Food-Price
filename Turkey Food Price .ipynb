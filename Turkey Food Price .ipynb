{
 "cells": [
  {
   "cell_type": "markdown",
   "id": "153f2fcd",
   "metadata": {},
   "source": [
    "## Turkey Food Price "
   ]
  },
  {
   "cell_type": "code",
   "execution_count": 2,
   "id": "95537d59",
   "metadata": {},
   "outputs": [],
   "source": [
    "import numpy as np\n",
    "import pandas as pd\n",
    "import seaborn as sns\n",
    "import matplotlib.pyplot as plt\n",
    "import warnings \n",
    "warnings.filterwarnings(\"ignore\")\n",
    "import seaborn as sns"
   ]
  },
  {
   "cell_type": "code",
   "execution_count": 3,
   "id": "b5da6b2d",
   "metadata": {},
   "outputs": [],
   "source": [
    "df1 = pd.read_csv(\"train.csv\")\n",
    "df2 = pd.read_csv(\"test.csv\")"
   ]
  },
  {
   "cell_type": "code",
   "execution_count": 4,
   "id": "a58816fc",
   "metadata": {},
   "outputs": [
    {
     "data": {
      "text/html": [
       "<div>\n",
       "<style scoped>\n",
       "    .dataframe tbody tr th:only-of-type {\n",
       "        vertical-align: middle;\n",
       "    }\n",
       "\n",
       "    .dataframe tbody tr th {\n",
       "        vertical-align: top;\n",
       "    }\n",
       "\n",
       "    .dataframe thead th {\n",
       "        text-align: right;\n",
       "    }\n",
       "</style>\n",
       "<table border=\"1\" class=\"dataframe\">\n",
       "  <thead>\n",
       "    <tr style=\"text-align: right;\">\n",
       "      <th></th>\n",
       "      <th>Place</th>\n",
       "      <th>ProductId</th>\n",
       "      <th>ProductName</th>\n",
       "      <th>UmId</th>\n",
       "      <th>UmName</th>\n",
       "      <th>Month</th>\n",
       "      <th>Year</th>\n",
       "      <th>Price</th>\n",
       "    </tr>\n",
       "  </thead>\n",
       "  <tbody>\n",
       "    <tr>\n",
       "      <th>0</th>\n",
       "      <td>National Average</td>\n",
       "      <td>52</td>\n",
       "      <td>Rice - Retail</td>\n",
       "      <td>5</td>\n",
       "      <td>KG</td>\n",
       "      <td>5</td>\n",
       "      <td>2013</td>\n",
       "      <td>4.4920</td>\n",
       "    </tr>\n",
       "    <tr>\n",
       "      <th>1</th>\n",
       "      <td>National Average</td>\n",
       "      <td>52</td>\n",
       "      <td>Rice - Retail</td>\n",
       "      <td>5</td>\n",
       "      <td>KG</td>\n",
       "      <td>6</td>\n",
       "      <td>2013</td>\n",
       "      <td>4.5786</td>\n",
       "    </tr>\n",
       "    <tr>\n",
       "      <th>2</th>\n",
       "      <td>National Average</td>\n",
       "      <td>52</td>\n",
       "      <td>Rice - Retail</td>\n",
       "      <td>5</td>\n",
       "      <td>KG</td>\n",
       "      <td>11</td>\n",
       "      <td>2013</td>\n",
       "      <td>4.7865</td>\n",
       "    </tr>\n",
       "    <tr>\n",
       "      <th>3</th>\n",
       "      <td>National Average</td>\n",
       "      <td>52</td>\n",
       "      <td>Rice - Retail</td>\n",
       "      <td>5</td>\n",
       "      <td>KG</td>\n",
       "      <td>12</td>\n",
       "      <td>2013</td>\n",
       "      <td>5.1337</td>\n",
       "    </tr>\n",
       "    <tr>\n",
       "      <th>4</th>\n",
       "      <td>National Average</td>\n",
       "      <td>52</td>\n",
       "      <td>Rice - Retail</td>\n",
       "      <td>5</td>\n",
       "      <td>KG</td>\n",
       "      <td>1</td>\n",
       "      <td>2014</td>\n",
       "      <td>5.5099</td>\n",
       "    </tr>\n",
       "  </tbody>\n",
       "</table>\n",
       "</div>"
      ],
      "text/plain": [
       "              Place  ProductId    ProductName  UmId UmName  Month  Year  \\\n",
       "0  National Average         52  Rice - Retail     5     KG      5  2013   \n",
       "1  National Average         52  Rice - Retail     5     KG      6  2013   \n",
       "2  National Average         52  Rice - Retail     5     KG     11  2013   \n",
       "3  National Average         52  Rice - Retail     5     KG     12  2013   \n",
       "4  National Average         52  Rice - Retail     5     KG      1  2014   \n",
       "\n",
       "    Price  \n",
       "0  4.4920  \n",
       "1  4.5786  \n",
       "2  4.7865  \n",
       "3  5.1337  \n",
       "4  5.5099  "
      ]
     },
     "execution_count": 4,
     "metadata": {},
     "output_type": "execute_result"
    }
   ],
   "source": [
    "df1.head()"
   ]
  },
  {
   "cell_type": "code",
   "execution_count": 5,
   "id": "ae02dad2",
   "metadata": {},
   "outputs": [
    {
     "data": {
      "text/html": [
       "<div>\n",
       "<style scoped>\n",
       "    .dataframe tbody tr th:only-of-type {\n",
       "        vertical-align: middle;\n",
       "    }\n",
       "\n",
       "    .dataframe tbody tr th {\n",
       "        vertical-align: top;\n",
       "    }\n",
       "\n",
       "    .dataframe thead th {\n",
       "        text-align: right;\n",
       "    }\n",
       "</style>\n",
       "<table border=\"1\" class=\"dataframe\">\n",
       "  <thead>\n",
       "    <tr style=\"text-align: right;\">\n",
       "      <th></th>\n",
       "      <th>Place</th>\n",
       "      <th>ProductId</th>\n",
       "      <th>ProductName</th>\n",
       "      <th>UmId</th>\n",
       "      <th>UmName</th>\n",
       "      <th>Month</th>\n",
       "      <th>Year</th>\n",
       "      <th>Price</th>\n",
       "    </tr>\n",
       "  </thead>\n",
       "  <tbody>\n",
       "    <tr>\n",
       "      <th>7376</th>\n",
       "      <td>Izmir</td>\n",
       "      <td>502</td>\n",
       "      <td>Cocoa (powder) - Retail</td>\n",
       "      <td>5</td>\n",
       "      <td>KG</td>\n",
       "      <td>8</td>\n",
       "      <td>2019</td>\n",
       "      <td>47.9040</td>\n",
       "    </tr>\n",
       "    <tr>\n",
       "      <th>7377</th>\n",
       "      <td>Izmir</td>\n",
       "      <td>502</td>\n",
       "      <td>Cocoa (powder) - Retail</td>\n",
       "      <td>5</td>\n",
       "      <td>KG</td>\n",
       "      <td>9</td>\n",
       "      <td>2019</td>\n",
       "      <td>49.1176</td>\n",
       "    </tr>\n",
       "    <tr>\n",
       "      <th>7378</th>\n",
       "      <td>Izmir</td>\n",
       "      <td>502</td>\n",
       "      <td>Cocoa (powder) - Retail</td>\n",
       "      <td>5</td>\n",
       "      <td>KG</td>\n",
       "      <td>10</td>\n",
       "      <td>2019</td>\n",
       "      <td>50.8347</td>\n",
       "    </tr>\n",
       "    <tr>\n",
       "      <th>7379</th>\n",
       "      <td>Izmir</td>\n",
       "      <td>502</td>\n",
       "      <td>Cocoa (powder) - Retail</td>\n",
       "      <td>5</td>\n",
       "      <td>KG</td>\n",
       "      <td>11</td>\n",
       "      <td>2019</td>\n",
       "      <td>51.7985</td>\n",
       "    </tr>\n",
       "    <tr>\n",
       "      <th>7380</th>\n",
       "      <td>Izmir</td>\n",
       "      <td>502</td>\n",
       "      <td>Cocoa (powder) - Retail</td>\n",
       "      <td>5</td>\n",
       "      <td>KG</td>\n",
       "      <td>12</td>\n",
       "      <td>2019</td>\n",
       "      <td>51.6071</td>\n",
       "    </tr>\n",
       "  </tbody>\n",
       "</table>\n",
       "</div>"
      ],
      "text/plain": [
       "      Place  ProductId              ProductName  UmId UmName  Month  Year  \\\n",
       "7376  Izmir        502  Cocoa (powder) - Retail     5     KG      8  2019   \n",
       "7377  Izmir        502  Cocoa (powder) - Retail     5     KG      9  2019   \n",
       "7378  Izmir        502  Cocoa (powder) - Retail     5     KG     10  2019   \n",
       "7379  Izmir        502  Cocoa (powder) - Retail     5     KG     11  2019   \n",
       "7380  Izmir        502  Cocoa (powder) - Retail     5     KG     12  2019   \n",
       "\n",
       "        Price  \n",
       "7376  47.9040  \n",
       "7377  49.1176  \n",
       "7378  50.8347  \n",
       "7379  51.7985  \n",
       "7380  51.6071  "
      ]
     },
     "execution_count": 5,
     "metadata": {},
     "output_type": "execute_result"
    }
   ],
   "source": [
    "df1.tail()"
   ]
  },
  {
   "cell_type": "code",
   "execution_count": 6,
   "id": "ce25b786",
   "metadata": {},
   "outputs": [
    {
     "data": {
      "text/html": [
       "<div>\n",
       "<style scoped>\n",
       "    .dataframe tbody tr th:only-of-type {\n",
       "        vertical-align: middle;\n",
       "    }\n",
       "\n",
       "    .dataframe tbody tr th {\n",
       "        vertical-align: top;\n",
       "    }\n",
       "\n",
       "    .dataframe thead th {\n",
       "        text-align: right;\n",
       "    }\n",
       "</style>\n",
       "<table border=\"1\" class=\"dataframe\">\n",
       "  <thead>\n",
       "    <tr style=\"text-align: right;\">\n",
       "      <th></th>\n",
       "      <th>Place</th>\n",
       "      <th>ProductId</th>\n",
       "      <th>ProductName</th>\n",
       "      <th>UmId</th>\n",
       "      <th>UmName</th>\n",
       "      <th>Month</th>\n",
       "      <th>Year</th>\n",
       "      <th>Price</th>\n",
       "    </tr>\n",
       "  </thead>\n",
       "  <tbody>\n",
       "    <tr>\n",
       "      <th>0</th>\n",
       "      <td>National Average</td>\n",
       "      <td>52</td>\n",
       "      <td>Rice - Retail</td>\n",
       "      <td>5</td>\n",
       "      <td>KG</td>\n",
       "      <td>1</td>\n",
       "      <td>2021</td>\n",
       "      <td>11.9249</td>\n",
       "    </tr>\n",
       "    <tr>\n",
       "      <th>1</th>\n",
       "      <td>National Average</td>\n",
       "      <td>52</td>\n",
       "      <td>Rice - Retail</td>\n",
       "      <td>5</td>\n",
       "      <td>KG</td>\n",
       "      <td>2</td>\n",
       "      <td>2021</td>\n",
       "      <td>12.8107</td>\n",
       "    </tr>\n",
       "    <tr>\n",
       "      <th>2</th>\n",
       "      <td>National Average</td>\n",
       "      <td>52</td>\n",
       "      <td>Rice - Retail</td>\n",
       "      <td>5</td>\n",
       "      <td>KG</td>\n",
       "      <td>3</td>\n",
       "      <td>2021</td>\n",
       "      <td>12.8107</td>\n",
       "    </tr>\n",
       "    <tr>\n",
       "      <th>3</th>\n",
       "      <td>National Average</td>\n",
       "      <td>52</td>\n",
       "      <td>Rice - Retail</td>\n",
       "      <td>5</td>\n",
       "      <td>KG</td>\n",
       "      <td>4</td>\n",
       "      <td>2021</td>\n",
       "      <td>12.8719</td>\n",
       "    </tr>\n",
       "    <tr>\n",
       "      <th>4</th>\n",
       "      <td>National Average</td>\n",
       "      <td>52</td>\n",
       "      <td>Rice - Retail</td>\n",
       "      <td>5</td>\n",
       "      <td>KG</td>\n",
       "      <td>5</td>\n",
       "      <td>2021</td>\n",
       "      <td>12.9061</td>\n",
       "    </tr>\n",
       "  </tbody>\n",
       "</table>\n",
       "</div>"
      ],
      "text/plain": [
       "              Place  ProductId    ProductName  UmId UmName  Month  Year  \\\n",
       "0  National Average         52  Rice - Retail     5     KG      1  2021   \n",
       "1  National Average         52  Rice - Retail     5     KG      2  2021   \n",
       "2  National Average         52  Rice - Retail     5     KG      3  2021   \n",
       "3  National Average         52  Rice - Retail     5     KG      4  2021   \n",
       "4  National Average         52  Rice - Retail     5     KG      5  2021   \n",
       "\n",
       "     Price  \n",
       "0  11.9249  \n",
       "1  12.8107  \n",
       "2  12.8107  \n",
       "3  12.8719  \n",
       "4  12.9061  "
      ]
     },
     "execution_count": 6,
     "metadata": {},
     "output_type": "execute_result"
    }
   ],
   "source": [
    "df2.head()"
   ]
  },
  {
   "cell_type": "code",
   "execution_count": 7,
   "id": "ec36f278",
   "metadata": {},
   "outputs": [
    {
     "data": {
      "text/html": [
       "<div>\n",
       "<style scoped>\n",
       "    .dataframe tbody tr th:only-of-type {\n",
       "        vertical-align: middle;\n",
       "    }\n",
       "\n",
       "    .dataframe tbody tr th {\n",
       "        vertical-align: top;\n",
       "    }\n",
       "\n",
       "    .dataframe thead th {\n",
       "        text-align: right;\n",
       "    }\n",
       "</style>\n",
       "<table border=\"1\" class=\"dataframe\">\n",
       "  <thead>\n",
       "    <tr style=\"text-align: right;\">\n",
       "      <th></th>\n",
       "      <th>Place</th>\n",
       "      <th>ProductId</th>\n",
       "      <th>ProductName</th>\n",
       "      <th>UmId</th>\n",
       "      <th>UmName</th>\n",
       "      <th>Month</th>\n",
       "      <th>Year</th>\n",
       "      <th>Price</th>\n",
       "    </tr>\n",
       "  </thead>\n",
       "  <tbody>\n",
       "    <tr>\n",
       "      <th>863</th>\n",
       "      <td>Izmir</td>\n",
       "      <td>502</td>\n",
       "      <td>Cocoa (powder) - Retail</td>\n",
       "      <td>5</td>\n",
       "      <td>KG</td>\n",
       "      <td>1</td>\n",
       "      <td>2021</td>\n",
       "      <td>68.2002</td>\n",
       "    </tr>\n",
       "    <tr>\n",
       "      <th>864</th>\n",
       "      <td>Izmir</td>\n",
       "      <td>502</td>\n",
       "      <td>Cocoa (powder) - Retail</td>\n",
       "      <td>5</td>\n",
       "      <td>KG</td>\n",
       "      <td>2</td>\n",
       "      <td>2021</td>\n",
       "      <td>68.6250</td>\n",
       "    </tr>\n",
       "    <tr>\n",
       "      <th>865</th>\n",
       "      <td>Izmir</td>\n",
       "      <td>502</td>\n",
       "      <td>Cocoa (powder) - Retail</td>\n",
       "      <td>5</td>\n",
       "      <td>KG</td>\n",
       "      <td>3</td>\n",
       "      <td>2021</td>\n",
       "      <td>71.2310</td>\n",
       "    </tr>\n",
       "    <tr>\n",
       "      <th>866</th>\n",
       "      <td>Izmir</td>\n",
       "      <td>502</td>\n",
       "      <td>Cocoa (powder) - Retail</td>\n",
       "      <td>5</td>\n",
       "      <td>KG</td>\n",
       "      <td>4</td>\n",
       "      <td>2021</td>\n",
       "      <td>73.2609</td>\n",
       "    </tr>\n",
       "    <tr>\n",
       "      <th>867</th>\n",
       "      <td>Izmir</td>\n",
       "      <td>502</td>\n",
       "      <td>Cocoa (powder) - Retail</td>\n",
       "      <td>5</td>\n",
       "      <td>KG</td>\n",
       "      <td>5</td>\n",
       "      <td>2021</td>\n",
       "      <td>75.6859</td>\n",
       "    </tr>\n",
       "  </tbody>\n",
       "</table>\n",
       "</div>"
      ],
      "text/plain": [
       "     Place  ProductId              ProductName  UmId UmName  Month  Year  \\\n",
       "863  Izmir        502  Cocoa (powder) - Retail     5     KG      1  2021   \n",
       "864  Izmir        502  Cocoa (powder) - Retail     5     KG      2  2021   \n",
       "865  Izmir        502  Cocoa (powder) - Retail     5     KG      3  2021   \n",
       "866  Izmir        502  Cocoa (powder) - Retail     5     KG      4  2021   \n",
       "867  Izmir        502  Cocoa (powder) - Retail     5     KG      5  2021   \n",
       "\n",
       "       Price  \n",
       "863  68.2002  \n",
       "864  68.6250  \n",
       "865  71.2310  \n",
       "866  73.2609  \n",
       "867  75.6859  "
      ]
     },
     "execution_count": 7,
     "metadata": {},
     "output_type": "execute_result"
    }
   ],
   "source": [
    "df2.tail()"
   ]
  },
  {
   "cell_type": "code",
   "execution_count": 8,
   "id": "9eab3efd",
   "metadata": {},
   "outputs": [],
   "source": [
    "df = pd.concat([df1,df2],axis=0)"
   ]
  },
  {
   "cell_type": "code",
   "execution_count": 9,
   "id": "225d01b6",
   "metadata": {},
   "outputs": [
    {
     "name": "stdout",
     "output_type": "stream",
     "text": [
      "<class 'pandas.core.frame.DataFrame'>\n",
      "Int64Index: 8249 entries, 0 to 867\n",
      "Data columns (total 8 columns):\n",
      " #   Column       Non-Null Count  Dtype  \n",
      "---  ------       --------------  -----  \n",
      " 0   Place        8249 non-null   object \n",
      " 1   ProductId    8249 non-null   int64  \n",
      " 2   ProductName  8249 non-null   object \n",
      " 3   UmId         8249 non-null   int64  \n",
      " 4   UmName       8249 non-null   object \n",
      " 5   Month        8249 non-null   int64  \n",
      " 6   Year         8249 non-null   int64  \n",
      " 7   Price        8249 non-null   float64\n",
      "dtypes: float64(1), int64(4), object(3)\n",
      "memory usage: 580.0+ KB\n"
     ]
    }
   ],
   "source": [
    "df.info()"
   ]
  },
  {
   "cell_type": "code",
   "execution_count": 10,
   "id": "5dbdc422",
   "metadata": {},
   "outputs": [
    {
     "data": {
      "text/html": [
       "<div>\n",
       "<style scoped>\n",
       "    .dataframe tbody tr th:only-of-type {\n",
       "        vertical-align: middle;\n",
       "    }\n",
       "\n",
       "    .dataframe tbody tr th {\n",
       "        vertical-align: top;\n",
       "    }\n",
       "\n",
       "    .dataframe thead th {\n",
       "        text-align: right;\n",
       "    }\n",
       "</style>\n",
       "<table border=\"1\" class=\"dataframe\">\n",
       "  <thead>\n",
       "    <tr style=\"text-align: right;\">\n",
       "      <th></th>\n",
       "      <th>ProductId</th>\n",
       "      <th>UmId</th>\n",
       "      <th>Month</th>\n",
       "      <th>Year</th>\n",
       "      <th>Price</th>\n",
       "    </tr>\n",
       "  </thead>\n",
       "  <tbody>\n",
       "    <tr>\n",
       "      <th>count</th>\n",
       "      <td>8249.000000</td>\n",
       "      <td>8249.000000</td>\n",
       "      <td>8249.000000</td>\n",
       "      <td>8249.000000</td>\n",
       "      <td>8249.000000</td>\n",
       "    </tr>\n",
       "    <tr>\n",
       "      <th>mean</th>\n",
       "      <td>255.255182</td>\n",
       "      <td>15.228634</td>\n",
       "      <td>6.107892</td>\n",
       "      <td>2017.831131</td>\n",
       "      <td>16.306486</td>\n",
       "    </tr>\n",
       "    <tr>\n",
       "      <th>std</th>\n",
       "      <td>141.410117</td>\n",
       "      <td>25.366028</td>\n",
       "      <td>3.540742</td>\n",
       "      <td>1.786690</td>\n",
       "      <td>23.151530</td>\n",
       "    </tr>\n",
       "    <tr>\n",
       "      <th>min</th>\n",
       "      <td>52.000000</td>\n",
       "      <td>5.000000</td>\n",
       "      <td>1.000000</td>\n",
       "      <td>2013.000000</td>\n",
       "      <td>0.253900</td>\n",
       "    </tr>\n",
       "    <tr>\n",
       "      <th>25%</th>\n",
       "      <td>114.000000</td>\n",
       "      <td>5.000000</td>\n",
       "      <td>3.000000</td>\n",
       "      <td>2017.000000</td>\n",
       "      <td>3.335000</td>\n",
       "    </tr>\n",
       "    <tr>\n",
       "      <th>50%</th>\n",
       "      <td>239.000000</td>\n",
       "      <td>5.000000</td>\n",
       "      <td>6.000000</td>\n",
       "      <td>2018.000000</td>\n",
       "      <td>6.152200</td>\n",
       "    </tr>\n",
       "    <tr>\n",
       "      <th>75%</th>\n",
       "      <td>388.000000</td>\n",
       "      <td>5.000000</td>\n",
       "      <td>9.000000</td>\n",
       "      <td>2019.000000</td>\n",
       "      <td>21.177300</td>\n",
       "    </tr>\n",
       "    <tr>\n",
       "      <th>max</th>\n",
       "      <td>502.000000</td>\n",
       "      <td>102.000000</td>\n",
       "      <td>12.000000</td>\n",
       "      <td>2021.000000</td>\n",
       "      <td>166.904600</td>\n",
       "    </tr>\n",
       "  </tbody>\n",
       "</table>\n",
       "</div>"
      ],
      "text/plain": [
       "         ProductId         UmId        Month         Year        Price\n",
       "count  8249.000000  8249.000000  8249.000000  8249.000000  8249.000000\n",
       "mean    255.255182    15.228634     6.107892  2017.831131    16.306486\n",
       "std     141.410117    25.366028     3.540742     1.786690    23.151530\n",
       "min      52.000000     5.000000     1.000000  2013.000000     0.253900\n",
       "25%     114.000000     5.000000     3.000000  2017.000000     3.335000\n",
       "50%     239.000000     5.000000     6.000000  2018.000000     6.152200\n",
       "75%     388.000000     5.000000     9.000000  2019.000000    21.177300\n",
       "max     502.000000   102.000000    12.000000  2021.000000   166.904600"
      ]
     },
     "execution_count": 10,
     "metadata": {},
     "output_type": "execute_result"
    }
   ],
   "source": [
    "df.describe()"
   ]
  },
  {
   "cell_type": "code",
   "execution_count": 11,
   "id": "27d376df",
   "metadata": {},
   "outputs": [
    {
     "data": {
      "text/html": [
       "<div>\n",
       "<style scoped>\n",
       "    .dataframe tbody tr th:only-of-type {\n",
       "        vertical-align: middle;\n",
       "    }\n",
       "\n",
       "    .dataframe tbody tr th {\n",
       "        vertical-align: top;\n",
       "    }\n",
       "\n",
       "    .dataframe thead th {\n",
       "        text-align: right;\n",
       "    }\n",
       "</style>\n",
       "<table border=\"1\" class=\"dataframe\">\n",
       "  <thead>\n",
       "    <tr style=\"text-align: right;\">\n",
       "      <th></th>\n",
       "      <th>ProductId</th>\n",
       "      <th>UmId</th>\n",
       "      <th>Month</th>\n",
       "      <th>Year</th>\n",
       "      <th>Price</th>\n",
       "    </tr>\n",
       "  </thead>\n",
       "  <tbody>\n",
       "    <tr>\n",
       "      <th>ProductId</th>\n",
       "      <td>1.000000</td>\n",
       "      <td>0.378217</td>\n",
       "      <td>-0.005549</td>\n",
       "      <td>0.089448</td>\n",
       "      <td>0.230597</td>\n",
       "    </tr>\n",
       "    <tr>\n",
       "      <th>UmId</th>\n",
       "      <td>0.378217</td>\n",
       "      <td>1.000000</td>\n",
       "      <td>0.004125</td>\n",
       "      <td>0.069695</td>\n",
       "      <td>0.056301</td>\n",
       "    </tr>\n",
       "    <tr>\n",
       "      <th>Month</th>\n",
       "      <td>-0.005549</td>\n",
       "      <td>0.004125</td>\n",
       "      <td>1.000000</td>\n",
       "      <td>-0.217938</td>\n",
       "      <td>0.005310</td>\n",
       "    </tr>\n",
       "    <tr>\n",
       "      <th>Year</th>\n",
       "      <td>0.089448</td>\n",
       "      <td>0.069695</td>\n",
       "      <td>-0.217938</td>\n",
       "      <td>1.000000</td>\n",
       "      <td>0.127007</td>\n",
       "    </tr>\n",
       "    <tr>\n",
       "      <th>Price</th>\n",
       "      <td>0.230597</td>\n",
       "      <td>0.056301</td>\n",
       "      <td>0.005310</td>\n",
       "      <td>0.127007</td>\n",
       "      <td>1.000000</td>\n",
       "    </tr>\n",
       "  </tbody>\n",
       "</table>\n",
       "</div>"
      ],
      "text/plain": [
       "           ProductId      UmId     Month      Year     Price\n",
       "ProductId   1.000000  0.378217 -0.005549  0.089448  0.230597\n",
       "UmId        0.378217  1.000000  0.004125  0.069695  0.056301\n",
       "Month      -0.005549  0.004125  1.000000 -0.217938  0.005310\n",
       "Year        0.089448  0.069695 -0.217938  1.000000  0.127007\n",
       "Price       0.230597  0.056301  0.005310  0.127007  1.000000"
      ]
     },
     "execution_count": 11,
     "metadata": {},
     "output_type": "execute_result"
    }
   ],
   "source": [
    "df.corr()"
   ]
  },
  {
   "cell_type": "code",
   "execution_count": 12,
   "id": "a05cc5f5",
   "metadata": {},
   "outputs": [
    {
     "data": {
      "text/plain": [
       "<AxesSubplot:>"
      ]
     },
     "execution_count": 12,
     "metadata": {},
     "output_type": "execute_result"
    },
    {
     "data": {
      "image/png": "[encoded data removed]",
      "text/plain": [
       "<Figure size 432x288 with 2 Axes>"
      ]
     },
     "metadata": {
      "needs_background": "light"
     },
     "output_type": "display_data"
    }
   ],
   "source": [
    "sns.heatmap(df.corr(),annot=True)"
   ]
  },
  {
   "cell_type": "code",
   "execution_count": 13,
   "id": "65ec128d",
   "metadata": {},
   "outputs": [
    {
     "data": {
      "text/plain": [
       "Place          0\n",
       "ProductId      0\n",
       "ProductName    0\n",
       "UmId           0\n",
       "UmName         0\n",
       "Month          0\n",
       "Year           0\n",
       "Price          0\n",
       "dtype: int64"
      ]
     },
     "execution_count": 13,
     "metadata": {},
     "output_type": "execute_result"
    }
   ],
   "source": [
    "df.isnull().sum()"
   ]
  },
  {
   "cell_type": "code",
   "execution_count": 14,
   "id": "69d7cb09",
   "metadata": {},
   "outputs": [
    {
     "data": {
      "text/plain": [
       "(8249, 8)"
      ]
     },
     "execution_count": 14,
     "metadata": {},
     "output_type": "execute_result"
    }
   ],
   "source": [
    "df.shape"
   ]
  },
  {
   "cell_type": "code",
   "execution_count": 15,
   "id": "a15b3554",
   "metadata": {},
   "outputs": [
    {
     "data": {
      "text/plain": [
       "<AxesSubplot:>"
      ]
     },
     "execution_count": 15,
     "metadata": {},
     "output_type": "execute_result"
    },
    {
     "data": {
      "image/png": "[encoded data removed]",
      "text/plain": [
       "<Figure size 1080x360 with 1 Axes>"
      ]
     },
     "metadata": {
      "needs_background": "light"
     },
     "output_type": "display_data"
    }
   ],
   "source": [
    "plt.figure(figsize=(15,5))\n",
    "df.ProductName.value_counts().plot.bar()"
   ]
  },
  {
   "cell_type": "code",
   "execution_count": 16,
   "id": "abab0d41",
   "metadata": {},
   "outputs": [
    {
     "data": {
      "text/plain": [
       "<AxesSubplot:>"
      ]
     },
     "execution_count": 16,
     "metadata": {},
     "output_type": "execute_result"
    },
    {
     "data": {
      "image/png": "[encoded data removed]",
      "text/plain": [
       "<Figure size 432x288 with 1 Axes>"
      ]
     },
     "metadata": {
      "needs_background": "light"
     },
     "output_type": "display_data"
    }
   ],
   "source": [
    "df.Place.value_counts().plot.bar()"
   ]
  },
  {
   "cell_type": "code",
   "execution_count": 17,
   "id": "0968d94c",
   "metadata": {},
   "outputs": [
    {
     "data": {
      "text/plain": [
       "<AxesSubplot:>"
      ]
     },
     "execution_count": 17,
     "metadata": {},
     "output_type": "execute_result"
    },
    {
     "data": {
      "image/png": "[encoded data removed]",
      "text/plain": [
       "<Figure size 432x288 with 1 Axes>"
      ]
     },
     "metadata": {
      "needs_background": "light"
     },
     "output_type": "display_data"
    }
   ],
   "source": [
    "df.Year.value_counts().plot.bar()"
   ]
  },
  {
   "cell_type": "code",
   "execution_count": 18,
   "id": "1d6b24f4",
   "metadata": {},
   "outputs": [],
   "source": [
    "def regression_funct(x,y):\n",
    "    from sklearn.linear_model import LinearRegression\n",
    "    from sklearn.linear_model import Ridge,Lasso\n",
    "    from sklearn.linear_model import ElasticNet\n",
    "    from sklearn.tree import ExtraTreeRegressor\n",
    "    from sklearn.ensemble import GradientBoostingRegressor\n",
    "    from sklearn.neighbors import KNeighborsRegressor\n",
    "    \n",
    "    from sklearn.model_selection import train_test_split\n",
    "\n",
    "    from sklearn.metrics import mean_squared_error,r2_score,mean_absolute_error\n",
    "    \n",
    "    \n",
    "    x_train,x_test,y_train,y_test=train_test_split(x,y,test_size=0.2,random_state=42)\n",
    "\n",
    "    L=LinearRegression()\n",
    "    R=Ridge()\n",
    "    Lass=Lasso()\n",
    "    E=ElasticNet()\n",
    "    ExTree=ExtraTreeRegressor()\n",
    "    GBR=GradientBoostingRegressor()\n",
    "    KN=KNeighborsRegressor()\n",
    "    \n",
    "    algos=[L,R,Lass,E,ExTree,GBR,KN]\n",
    "    algo_names=['LinearRegression','Ridge','Lasso','ElasticNet','ExtraTreeRegressor','GradientBoostingRegressor','KNeighborsRegressor']\n",
    "    r_squared=[]\n",
    "    rmse=[]\n",
    "    mae=[]\n",
    "    \n",
    "    result=pd.DataFrame(columns=['R_Squared','RMSE','MAE'],index=algo_names)\n",
    "    \n",
    "    for item in algos:\n",
    "        item.fit(x_train,y_train)\n",
    "        item.predict(x_test)\n",
    "        r_squared.append(r2_score(y_test,item.predict(x_test)))\n",
    "        rmse.append((mean_squared_error(y_test,item.predict(x_test)))**.5)\n",
    "        mae.append(mean_absolute_error(y_test,item.predict(x_test)))\n",
    "        \n",
    "    result.R_Squared=r_squared\n",
    "    result.RMSE=rmse\n",
    "    result.MAE=mae\n",
    "        \n",
    "    return result.sort_values('R_Squared',ascending=False)"
   ]
  },
  {
   "cell_type": "code",
   "execution_count": 19,
   "id": "5357cbd9",
   "metadata": {},
   "outputs": [],
   "source": [
    "x,y=df.drop(\"Price\",axis=1),df[\"Price\"]"
   ]
  },
  {
   "cell_type": "code",
   "execution_count": 20,
   "id": "d9111f30",
   "metadata": {},
   "outputs": [],
   "source": [
    "x=pd.get_dummies(x,drop_first=True)"
   ]
  },
  {
   "cell_type": "code",
   "execution_count": 21,
   "id": "37e61d7e",
   "metadata": {},
   "outputs": [
    {
     "data": {
      "text/html": [
       "<div>\n",
       "<style scoped>\n",
       "    .dataframe tbody tr th:only-of-type {\n",
       "        vertical-align: middle;\n",
       "    }\n",
       "\n",
       "    .dataframe tbody tr th {\n",
       "        vertical-align: top;\n",
       "    }\n",
       "\n",
       "    .dataframe thead th {\n",
       "        text-align: right;\n",
       "    }\n",
       "</style>\n",
       "<table border=\"1\" class=\"dataframe\">\n",
       "  <thead>\n",
       "    <tr style=\"text-align: right;\">\n",
       "      <th></th>\n",
       "      <th>R_Squared</th>\n",
       "      <th>RMSE</th>\n",
       "      <th>MAE</th>\n",
       "    </tr>\n",
       "  </thead>\n",
       "  <tbody>\n",
       "    <tr>\n",
       "      <th>KNeighborsRegressor</th>\n",
       "      <td>0.975534</td>\n",
       "      <td>3.640875</td>\n",
       "      <td>1.181779</td>\n",
       "    </tr>\n",
       "    <tr>\n",
       "      <th>ExtraTreeRegressor</th>\n",
       "      <td>0.974925</td>\n",
       "      <td>3.685904</td>\n",
       "      <td>0.613925</td>\n",
       "    </tr>\n",
       "    <tr>\n",
       "      <th>GradientBoostingRegressor</th>\n",
       "      <td>0.929851</td>\n",
       "      <td>6.164964</td>\n",
       "      <td>3.810930</td>\n",
       "    </tr>\n",
       "    <tr>\n",
       "      <th>LinearRegression</th>\n",
       "      <td>0.912328</td>\n",
       "      <td>6.892088</td>\n",
       "      <td>3.304027</td>\n",
       "    </tr>\n",
       "    <tr>\n",
       "      <th>Ridge</th>\n",
       "      <td>0.912160</td>\n",
       "      <td>6.898666</td>\n",
       "      <td>3.325590</td>\n",
       "    </tr>\n",
       "    <tr>\n",
       "      <th>Lasso</th>\n",
       "      <td>0.356400</td>\n",
       "      <td>18.673603</td>\n",
       "      <td>13.596893</td>\n",
       "    </tr>\n",
       "    <tr>\n",
       "      <th>ElasticNet</th>\n",
       "      <td>0.090930</td>\n",
       "      <td>22.193132</td>\n",
       "      <td>14.940303</td>\n",
       "    </tr>\n",
       "  </tbody>\n",
       "</table>\n",
       "</div>"
      ],
      "text/plain": [
       "                           R_Squared       RMSE        MAE\n",
       "KNeighborsRegressor         0.975534   3.640875   1.181779\n",
       "ExtraTreeRegressor          0.974925   3.685904   0.613925\n",
       "GradientBoostingRegressor   0.929851   6.164964   3.810930\n",
       "LinearRegression            0.912328   6.892088   3.304027\n",
       "Ridge                       0.912160   6.898666   3.325590\n",
       "Lasso                       0.356400  18.673603  13.596893\n",
       "ElasticNet                  0.090930  22.193132  14.940303"
      ]
     },
     "execution_count": 21,
     "metadata": {},
     "output_type": "execute_result"
    }
   ],
   "source": [
    "regression_funct(x,y)"
   ]
  },
  {
   "cell_type": "markdown",
   "id": "d3aaf0cb",
   "metadata": {},
   "source": [
    "## Deep Learning Uygulanırsa?"
   ]
  },
  {
   "cell_type": "code",
   "execution_count": 22,
   "id": "df0766ac",
   "metadata": {},
   "outputs": [],
   "source": [
    "from tensorflow.keras.models import Sequential\n",
    "from tensorflow.keras.layers import Dense, Activation\n",
    "from tensorflow.keras.optimizers import Adam\n",
    "from sklearn.model_selection import train_test_split\n",
    "from sklearn.metrics import  r2_score, mean_squared_error, mean_absolute_error\n",
    "from sklearn.preprocessing import MinMaxScaler\n",
    "scaler=MinMaxScaler()"
   ]
  },
  {
   "cell_type": "code",
   "execution_count": 23,
   "id": "46cf6d3f",
   "metadata": {},
   "outputs": [],
   "source": [
    "x=scaler.fit_transform(x)"
   ]
  },
  {
   "cell_type": "code",
   "execution_count": 24,
   "id": "4d497666",
   "metadata": {},
   "outputs": [],
   "source": [
    "x_train, x_test, y_train, y_test = train_test_split(x,y, test_size=0.20, random_state=42)"
   ]
  },
  {
   "cell_type": "code",
   "execution_count": 25,
   "id": "bf32acb4",
   "metadata": {},
   "outputs": [],
   "source": [
    "model=Sequential()\n",
    "model.add(Dense(512, activation='relu'))\n",
    "model.add(Dense(512, activation='relu'))\n",
    "model.add(Dense(512, activation='relu'))\n",
    "model.add(Dense(512, activation='relu'))\n",
    "model.add(Dense(512, activation='relu'))\n",
    "model.add(Dense(512, activation='relu'))\n",
    "model.add(Dense(512, activation='relu'))\n",
    "model.add(Dense(512, activation='relu'))\n",
    "model.add(Dense(1))\n",
    "model.compile(optimizer='Adam', loss='mse')#mse regression"
   ]
  },
  {
   "cell_type": "code",
   "execution_count": 26,
   "id": "c68e2734",
   "metadata": {},
   "outputs": [
    {
     "name": "stdout",
     "output_type": "stream",
     "text": [
      "Epoch 1/50\n",
      "52/52 [==============================] - 2s 28ms/step - loss: 253.2494 - val_loss: 45.0566\n",
      "Epoch 2/50\n",
      "52/52 [==============================] - 1s 23ms/step - loss: 45.8185 - val_loss: 43.2949\n",
      "Epoch 3/50\n",
      "52/52 [==============================] - 1s 22ms/step - loss: 59.9826 - val_loss: 48.0261\n",
      "Epoch 4/50\n",
      "52/52 [==============================] - 1s 22ms/step - loss: 41.1482 - val_loss: 30.0214\n",
      "Epoch 5/50\n",
      "52/52 [==============================] - 1s 22ms/step - loss: 31.0096 - val_loss: 31.5709\n",
      "Epoch 6/50\n",
      "52/52 [==============================] - 1s 22ms/step - loss: 26.9060 - val_loss: 34.2499\n",
      "Epoch 7/50\n",
      "52/52 [==============================] - 1s 24ms/step - loss: 26.5107 - val_loss: 34.4670\n",
      "Epoch 8/50\n",
      "52/52 [==============================] - 1s 25ms/step - loss: 28.7749 - val_loss: 27.8562\n",
      "Epoch 9/50\n",
      "52/52 [==============================] - 1s 22ms/step - loss: 24.6531 - val_loss: 90.6351\n",
      "Epoch 10/50\n",
      "52/52 [==============================] - 1s 24ms/step - loss: 31.2034 - val_loss: 28.7837\n",
      "Epoch 11/50\n",
      "52/52 [==============================] - 1s 25ms/step - loss: 23.4087 - val_loss: 26.8331\n",
      "Epoch 12/50\n",
      "52/52 [==============================] - 1s 25ms/step - loss: 24.2432 - val_loss: 40.7479\n",
      "Epoch 13/50\n",
      "52/52 [==============================] - 1s 25ms/step - loss: 26.4769 - val_loss: 32.5310\n",
      "Epoch 14/50\n",
      "52/52 [==============================] - 1s 24ms/step - loss: 22.8740 - val_loss: 31.2143\n",
      "Epoch 15/50\n",
      "52/52 [==============================] - 1s 27ms/step - loss: 20.5846 - val_loss: 35.8074\n",
      "Epoch 16/50\n",
      "52/52 [==============================] - 1s 28ms/step - loss: 22.7242 - val_loss: 24.6289\n",
      "Epoch 17/50\n",
      "52/52 [==============================] - 1s 26ms/step - loss: 18.8188 - val_loss: 24.0194\n",
      "Epoch 18/50\n",
      "52/52 [==============================] - 2s 29ms/step - loss: 17.4279 - val_loss: 32.0596\n",
      "Epoch 19/50\n",
      "52/52 [==============================] - 1s 28ms/step - loss: 20.4264 - val_loss: 23.6543\n",
      "Epoch 20/50\n",
      "52/52 [==============================] - 1s 24ms/step - loss: 15.2687 - val_loss: 24.2746\n",
      "Epoch 21/50\n",
      "52/52 [==============================] - 1s 24ms/step - loss: 14.3275 - val_loss: 27.9049\n",
      "Epoch 22/50\n",
      "52/52 [==============================] - 1s 26ms/step - loss: 15.3549 - val_loss: 29.2491\n",
      "Epoch 23/50\n",
      "52/52 [==============================] - 1s 26ms/step - loss: 15.8635 - val_loss: 35.1847\n",
      "Epoch 24/50\n",
      "52/52 [==============================] - 1s 27ms/step - loss: 18.4371 - val_loss: 23.5606\n",
      "Epoch 25/50\n",
      "52/52 [==============================] - 2s 31ms/step - loss: 14.0133 - val_loss: 24.8343\n",
      "Epoch 26/50\n",
      "52/52 [==============================] - 1s 27ms/step - loss: 21.4295 - val_loss: 21.4727\n",
      "Epoch 27/50\n",
      "52/52 [==============================] - 2s 29ms/step - loss: 14.9752 - val_loss: 25.8848\n",
      "Epoch 28/50\n",
      "52/52 [==============================] - 1s 24ms/step - loss: 14.3762 - val_loss: 25.6851\n",
      "Epoch 29/50\n",
      "52/52 [==============================] - 1s 25ms/step - loss: 12.6424 - val_loss: 25.0332\n",
      "Epoch 30/50\n",
      "52/52 [==============================] - 2s 30ms/step - loss: 13.8043 - val_loss: 21.1314\n",
      "Epoch 31/50\n",
      "52/52 [==============================] - 2s 31ms/step - loss: 15.3994 - val_loss: 23.3975\n",
      "Epoch 32/50\n",
      "52/52 [==============================] - 1s 27ms/step - loss: 15.0401 - val_loss: 22.0393\n",
      "Epoch 33/50\n",
      "52/52 [==============================] - 2s 31ms/step - loss: 13.3354 - val_loss: 23.9278\n",
      "Epoch 34/50\n",
      "52/52 [==============================] - 1s 29ms/step - loss: 14.9243 - val_loss: 20.6344\n",
      "Epoch 35/50\n",
      "52/52 [==============================] - 1s 28ms/step - loss: 10.8243 - val_loss: 27.3913\n",
      "Epoch 36/50\n",
      "52/52 [==============================] - 1s 27ms/step - loss: 22.2642 - val_loss: 23.1786\n",
      "Epoch 37/50\n",
      "52/52 [==============================] - 1s 28ms/step - loss: 12.0515 - val_loss: 20.5516\n",
      "Epoch 38/50\n",
      "52/52 [==============================] - 1s 29ms/step - loss: 11.5028 - val_loss: 22.8703\n",
      "Epoch 39/50\n",
      "52/52 [==============================] - 2s 29ms/step - loss: 17.8899 - val_loss: 22.0770\n",
      "Epoch 40/50\n",
      "52/52 [==============================] - 2s 32ms/step - loss: 12.3722 - val_loss: 21.3460\n",
      "Epoch 41/50\n",
      "52/52 [==============================] - 2s 31ms/step - loss: 12.7653 - val_loss: 24.2882\n",
      "Epoch 42/50\n",
      "52/52 [==============================] - 1s 28ms/step - loss: 11.9890 - val_loss: 23.7932\n",
      "Epoch 43/50\n",
      "52/52 [==============================] - 2s 30ms/step - loss: 15.7144 - val_loss: 26.0851\n",
      "Epoch 44/50\n",
      "52/52 [==============================] - 2s 30ms/step - loss: 17.6989 - val_loss: 23.9016\n",
      "Epoch 45/50\n",
      "52/52 [==============================] - 2s 32ms/step - loss: 12.6475 - val_loss: 22.7099\n",
      "Epoch 46/50\n",
      "52/52 [==============================] - 2s 29ms/step - loss: 14.3185 - val_loss: 27.0129\n",
      "Epoch 47/50\n",
      "52/52 [==============================] - 1s 28ms/step - loss: 12.1117 - val_loss: 25.7430\n",
      "Epoch 48/50\n",
      "52/52 [==============================] - 1s 25ms/step - loss: 10.6213 - val_loss: 21.3398\n",
      "Epoch 49/50\n",
      "52/52 [==============================] - 1s 26ms/step - loss: 11.8404 - val_loss: 21.2086\n",
      "Epoch 50/50\n",
      "52/52 [==============================] - 2s 31ms/step - loss: 11.5091 - val_loss: 25.7291\n"
     ]
    },
    {
     "data": {
      "text/plain": [
       "<tensorflow.python.keras.callbacks.History at 0x1e0512c9850>"
      ]
     },
     "execution_count": 26,
     "metadata": {},
     "output_type": "execute_result"
    }
   ],
   "source": [
    "model.fit(x=x_train, y=y_train, validation_data=(x_test, y_test), batch_size=128, epochs=50, verbose=1)"
   ]
  },
  {
   "cell_type": "code",
   "execution_count": 27,
   "id": "f8c7ce49",
   "metadata": {},
   "outputs": [
    {
     "name": "stdout",
     "output_type": "stream",
     "text": [
      "Model: \"sequential\"\n",
      "_________________________________________________________________\n",
      "Layer (type)                 Output Shape              Param #   \n",
      "=================================================================\n",
      "dense (Dense)                (None, 512)               34304     \n",
      "_________________________________________________________________\n",
      "dense_1 (Dense)              (None, 512)               262656    \n",
      "_________________________________________________________________\n",
      "dense_2 (Dense)              (None, 512)               262656    \n",
      "_________________________________________________________________\n",
      "dense_3 (Dense)              (None, 512)               262656    \n",
      "_________________________________________________________________\n",
      "dense_4 (Dense)              (None, 512)               262656    \n",
      "_________________________________________________________________\n",
      "dense_5 (Dense)              (None, 512)               262656    \n",
      "_________________________________________________________________\n",
      "dense_6 (Dense)              (None, 512)               262656    \n",
      "_________________________________________________________________\n",
      "dense_7 (Dense)              (None, 512)               262656    \n",
      "_________________________________________________________________\n",
      "dense_8 (Dense)              (None, 1)                 513       \n",
      "=================================================================\n",
      "Total params: 1,873,409\n",
      "Trainable params: 1,873,409\n",
      "Non-trainable params: 0\n",
      "_________________________________________________________________\n"
     ]
    }
   ],
   "source": [
    "model.summary()"
   ]
  },
  {
   "cell_type": "code",
   "execution_count": 28,
   "id": "606fb264",
   "metadata": {},
   "outputs": [
    {
     "data": {
      "text/plain": [
       "<AxesSubplot:>"
      ]
     },
     "execution_count": 28,
     "metadata": {},
     "output_type": "execute_result"
    },
    {
     "data": {
      "image/png": "[encoded data removed]",
      "text/plain": [
       "<Figure size 864x576 with 1 Axes>"
      ]
     },
     "metadata": {
      "needs_background": "light"
     },
     "output_type": "display_data"
    }
   ],
   "source": [
    "loss_df=pd.DataFrame(model.history.history)\n",
    "loss_df.plot(figsize=(12,8))"
   ]
  },
  {
   "cell_type": "code",
   "execution_count": 29,
   "id": "33723aba",
   "metadata": {},
   "outputs": [],
   "source": [
    "pred=model.predict(x_test)"
   ]
  },
  {
   "cell_type": "code",
   "execution_count": 30,
   "id": "8a0536a9",
   "metadata": {},
   "outputs": [
    {
     "data": {
      "text/plain": [
       "5.0723884527569165"
      ]
     },
     "execution_count": 30,
     "metadata": {},
     "output_type": "execute_result"
    }
   ],
   "source": [
    "(mean_squared_error(y_test,pred))**.5"
   ]
  },
  {
   "cell_type": "code",
   "execution_count": 31,
   "id": "36fc227d",
   "metadata": {},
   "outputs": [
    {
     "data": {
      "text/plain": [
       "0.9525118701474453"
      ]
     },
     "execution_count": 31,
     "metadata": {},
     "output_type": "execute_result"
    }
   ],
   "source": [
    "r2_score(y_test,pred) "
   ]
  },
  {
   "cell_type": "code",
   "execution_count": null,
   "id": "f0b009a8",
   "metadata": {},
   "outputs": [],
   "source": []
  }
 ],
 "metadata": {
  "kernelspec": {
   "display_name": "Python 3",
   "language": "python",
   "name": "python3"
  },
  "language_info": {
   "codemirror_mode": {
    "name": "ipython",
    "version": 3
   },
   "file_extension": ".py",
   "mimetype": "text/x-python",
   "name": "python",
   "nbconvert_exporter": "python",
   "pygments_lexer": "ipython3",
   "version": "3.8.8"
  }
 },
 "nbformat": 4,
 "nbformat_minor": 5
}
